{
 "cells": [
  {
   "cell_type": "code",
   "execution_count": 1,
   "metadata": {},
   "outputs": [],
   "source": [
    "import hashlib\n",
    "import random"
   ]
  },
  {
   "cell_type": "code",
   "execution_count": 2,
   "metadata": {},
   "outputs": [],
   "source": [
    "global max_bit \n",
    "max_bit = 3\n",
    "max_node = 2**max_bit"
   ]
  },
  {
   "cell_type": "code",
   "execution_count": 3,
   "metadata": {},
   "outputs": [],
   "source": [
    "def gethash(key):\n",
    "    key = key.encode()\n",
    "    h = hashlib.sha1(key)\n",
    "    return int(h.hexdigest(),16)%max_node"
   ]
  },
  {
   "cell_type": "code",
   "execution_count": 4,
   "metadata": {},
   "outputs": [],
   "source": [
    "key_list=[]\n",
    "for i in range(max_node):\n",
    "    h = gethash(\"%s\"%i)\n",
    "    key_list.append(h)"
   ]
  },
  {
   "cell_type": "code",
   "execution_count": 107,
   "metadata": {},
   "outputs": [],
   "source": [
    "class ChordNode:\n",
    "    def __init__(self,id):\n",
    "        self.id = gethash(id)\n",
    "        self.successor = None\n",
    "        self.predecessor = None\n",
    "        self.finger_table = {}\n",
    "        self.key = []\n",
    "        \n",
    "    def create(self):\n",
    "        self.predecessor = None\n",
    "        self.successor = self\n",
    "    \n",
    "    def find_successor(self,keyid):#find keyid successor\n",
    "        if keyid == self.id: \n",
    "            #case 1:key_id = node_id\n",
    "            return self\n",
    "        if self == self.successor: \n",
    "            #case 2:only one node\n",
    "            return self\n",
    "        if self.successor.id >= keyid and self.id < keyid:\n",
    "            #case 3:node_id<key_id<successor_id\n",
    "            return self.successor\n",
    "        if self.id > self.successor.id and keyid > self.id:\n",
    "            #case 4:successor_id<node_id<key_id\n",
    "            return self.successor\n",
    "        if self.id > self.successor.id and keyid <= self.successor.id:\n",
    "            #case 5:key_id<successor_id<self.id\n",
    "            return self.successor\n",
    "        else:\n",
    "            newNode = self.find_predecessor(keyid)\n",
    "            if newNode == self:\n",
    "                return newNode.successor.find_successor(keyid)\n",
    "            else:\n",
    "                return newNode.find_successor(keyid)\n",
    "    \n",
    "    def find_predecessor(self,keyid):\n",
    "        for i in range(max_bit-1,-1,-1):\n",
    "            if self.finger_table[i].id >= self.id and self.finger_table[i].id < keyid:\n",
    "                return self.finger_table[i]      \n",
    "        return self\n",
    "\n",
    "    def join(self,randNode):\n",
    "        #randNode is already in ChordRing, add a new node with the help of randNode\n",
    "        self.predecessor = None\n",
    "        self.successor = randNode.find_successor(self.id)\n",
    "\n",
    "    def stabilize(self):\n",
    "        x = self.successor.predecessor\n",
    "        if x != None:\n",
    "            if self == self.successor or (x.id > self.id and x.id < self.successor.id):\n",
    "                self.successor = x\n",
    "        self.successor.notify(self)\n",
    "        \n",
    "    def notify(self,node):\n",
    "        if (self.predecessor == None) or (node.id > self.predecessor.id and node.id < self.id):\n",
    "            self.predecessor = node\n",
    "    \n",
    "    def fix_fingers(self):\n",
    "        for i in range(0,max_bit):\n",
    "            successor = (self.id + 2**i)%2**i\n",
    "            self.finger_table[i] = self.find_successor(successor)     "
   ]
  },
  {
   "cell_type": "code",
   "execution_count": 108,
   "metadata": {},
   "outputs": [],
   "source": [
    "node3 = ChordNode('19')\n",
    "node2 = ChordNode('889u90')\n",
    "node1 = ChordNode('25099999')"
   ]
  },
  {
   "cell_type": "code",
   "execution_count": 109,
   "metadata": {},
   "outputs": [
    {
     "name": "stdout",
     "output_type": "stream",
     "text": [
      "1 4 7\n"
     ]
    }
   ],
   "source": [
    "print(node1.id,node2.id,node3.id)"
   ]
  },
  {
   "cell_type": "code",
   "execution_count": 110,
   "metadata": {},
   "outputs": [
    {
     "data": {
      "text/plain": [
       "{0: <__main__.ChordNode at 0x7f8622894cf8>,\n",
       " 1: <__main__.ChordNode at 0x7f8622894cf8>,\n",
       " 2: <__main__.ChordNode at 0x7f8622894cf8>}"
      ]
     },
     "execution_count": 110,
     "metadata": {},
     "output_type": "execute_result"
    }
   ],
   "source": [
    "node1.create()\n",
    "node1.fix_fingers()\n",
    "node1.finger_table"
   ]
  },
  {
   "cell_type": "code",
   "execution_count": 111,
   "metadata": {},
   "outputs": [],
   "source": [
    "node2.join(node1)\n",
    "node2.stabilize()\n",
    "node2.fix_fingers()"
   ]
  },
  {
   "cell_type": "code",
   "execution_count": 112,
   "metadata": {},
   "outputs": [
    {
     "data": {
      "text/plain": [
       "<__main__.ChordNode at 0x7f8622894ba8>"
      ]
     },
     "execution_count": 112,
     "metadata": {},
     "output_type": "execute_result"
    }
   ],
   "source": [
    "node2"
   ]
  },
  {
   "cell_type": "code",
   "execution_count": 113,
   "metadata": {},
   "outputs": [
    {
     "data": {
      "text/plain": [
       "<__main__.ChordNode at 0x7f8622894ba8>"
      ]
     },
     "execution_count": 113,
     "metadata": {},
     "output_type": "execute_result"
    }
   ],
   "source": [
    "node1.stabilize()\n",
    "node1.fix_fingers()\n",
    "node1.successor"
   ]
  },
  {
   "cell_type": "code",
   "execution_count": 114,
   "metadata": {},
   "outputs": [
    {
     "data": {
      "text/plain": [
       "<__main__.ChordNode at 0x7f8622894ba8>"
      ]
     },
     "execution_count": 114,
     "metadata": {},
     "output_type": "execute_result"
    }
   ],
   "source": [
    "node1.predecessor"
   ]
  },
  {
   "cell_type": "code",
   "execution_count": 115,
   "metadata": {},
   "outputs": [
    {
     "data": {
      "text/plain": [
       "<__main__.ChordNode at 0x7f8622894cf8>"
      ]
     },
     "execution_count": 115,
     "metadata": {},
     "output_type": "execute_result"
    }
   ],
   "source": [
    "node2.predecessor"
   ]
  },
  {
   "cell_type": "code",
   "execution_count": 116,
   "metadata": {},
   "outputs": [
    {
     "data": {
      "text/plain": [
       "<__main__.ChordNode at 0x7f8622894cf8>"
      ]
     },
     "execution_count": 116,
     "metadata": {},
     "output_type": "execute_result"
    }
   ],
   "source": [
    "node2.successor"
   ]
  },
  {
   "cell_type": "code",
   "execution_count": 127,
   "metadata": {},
   "outputs": [
    {
     "data": {
      "text/plain": [
       "{0: <__main__.ChordNode at 0x7f8622894cf8>,\n",
       " 1: <__main__.ChordNode at 0x7f8622894cf8>}"
      ]
     },
     "execution_count": 127,
     "metadata": {},
     "output_type": "execute_result"
    }
   ],
   "source": [
    "node3.join(node1)\n",
    "node3.stabilize()\n",
    "# node3.fix_fingers()\n",
    "node3.finger_table"
   ]
  },
  {
   "cell_type": "code",
   "execution_count": 98,
   "metadata": {},
   "outputs": [
    {
     "data": {
      "text/plain": [
       "<__main__.ChordNode at 0x7f8622861ac8>"
      ]
     },
     "execution_count": 98,
     "metadata": {},
     "output_type": "execute_result"
    }
   ],
   "source": [
    "node3"
   ]
  },
  {
   "cell_type": "code",
   "execution_count": 124,
   "metadata": {},
   "outputs": [
    {
     "data": {
      "text/plain": [
       "<__main__.ChordNode at 0x7f8622894cf8>"
      ]
     },
     "execution_count": 124,
     "metadata": {},
     "output_type": "execute_result"
    }
   ],
   "source": [
    "node3.successor"
   ]
  },
  {
   "cell_type": "code",
   "execution_count": 125,
   "metadata": {},
   "outputs": [],
   "source": [
    "node3.predecessor"
   ]
  },
  {
   "cell_type": "code",
   "execution_count": 128,
   "metadata": {},
   "outputs": [],
   "source": [
    "node1.stabilize()\n",
    "node1.fix_fingers()\n",
    "node2.stabilize()\n",
    "node2.fix_fingers()"
   ]
  },
  {
   "cell_type": "code",
   "execution_count": 106,
   "metadata": {},
   "outputs": [
    {
     "data": {
      "text/plain": [
       "<__main__.ChordNode at 0x7f8622861438>"
      ]
     },
     "execution_count": 106,
     "metadata": {},
     "output_type": "execute_result"
    }
   ],
   "source": [
    "node2.successor"
   ]
  },
  {
   "cell_type": "code",
   "execution_count": null,
   "metadata": {},
   "outputs": [],
   "source": []
  }
 ],
 "metadata": {
  "kernelspec": {
   "display_name": "Python 3",
   "language": "python",
   "name": "python3"
  },
  "language_info": {
   "codemirror_mode": {
    "name": "ipython",
    "version": 3
   },
   "file_extension": ".py",
   "mimetype": "text/x-python",
   "name": "python",
   "nbconvert_exporter": "python",
   "pygments_lexer": "ipython3",
   "version": "3.7.0"
  }
 },
 "nbformat": 4,
 "nbformat_minor": 2
}
