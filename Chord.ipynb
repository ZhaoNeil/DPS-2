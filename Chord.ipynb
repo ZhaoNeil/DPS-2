{
 "cells": [
  {
   "cell_type": "code",
   "execution_count": 20,
   "metadata": {},
   "outputs": [],
   "source": [
    "global max_bit \n",
    "max_bit = 10\n",
    "max_node = 2**max_bit"
   ]
  },
  {
   "cell_type": "code",
   "execution_count": 2,
   "metadata": {},
   "outputs": [],
   "source": [
    "import hashlib"
   ]
  },
  {
   "cell_type": "code",
   "execution_count": 3,
   "metadata": {},
   "outputs": [],
   "source": [
    "def gethash(key):\n",
    "    key = key.encode()\n",
    "    h = hashlib.sha1(key)\n",
    "    return int(h.hexdigest(),16)%max_node"
   ]
  },
  {
   "cell_type": "code",
   "execution_count": 4,
   "metadata": {},
   "outputs": [],
   "source": [
    "key_list=[]\n",
    "for i in range(max_node):\n",
    "    h = gethash(\"%s\"%i)\n",
    "    key_list.append(h)"
   ]
  },
  {
   "cell_type": "code",
   "execution_count": 40,
   "metadata": {},
   "outputs": [],
   "source": [
    "class ChordNode:\n",
    "    def __init__(self,id):\n",
    "        self.id = gethash(id)\n",
    "        self.successor = None\n",
    "        self.predecessor = None\n",
    "        self.finger_table = {}\n",
    "        self.key = []\n",
    "    \n",
    "    def find_successor(self,keyid):#find keyid successor\n",
    "        keyid = gethash(keyid)\n",
    "        if keyid == self.id: \n",
    "            #case 1:key_id = node_id\n",
    "            return self\n",
    "        if self == self.successor: \n",
    "            #case 2:only one node\n",
    "            return self\n",
    "        if self.successor.id >= keyid and self.id < keyid:\n",
    "            #case 3:node_id<key_id<successor_id\n",
    "            return self.successor\n",
    "        if self.id > self.successor.id and keyid > self.id:\n",
    "            #case 4:successor_id<node_id<key_id\n",
    "            return self.successor\n",
    "        if self.id > self.successor.id and keyid <= self.successor.id:\n",
    "            #case 5:key_id<successor_id<self.id\n",
    "            return self.successor\n",
    "        else:\n",
    "            predecessor = self.predecessor(keyid)\n",
    "            if predecessor == self:\n",
    "                return predecessor.successor.find_successor(keyid)\n",
    "            else:\n",
    "                return predecessor.find_successor(keyid)\n",
    "    \n",
    "    def predecessor(self,keyid):\n",
    "        for i in range(max_bit,-1,-1):\n",
    "            if self.finger_table[i].id >= self.id and self.finger_table[i].id < keyid:\n",
    "                return self.finger_table[i]      \n",
    "        return self\n",
    "    \n",
    "#     def reset_finger_table(self):\n",
    "#         for i in range(max_bit):\n",
    "#             self.finger_table[i] = self.successor\n",
    "\n",
    "    def join(self,newNode):\n",
    "        if newNode:\n",
    "            self.init_finger_table(newNode)\n",
    "            self.update_others\n",
    "        else:\n",
    "            #only one node in the network\n",
    "            for i in range(max_bit):\n",
    "                self.finger_table[i] = self\n",
    "            newNode.predecessor = self\n",
    "    \n",
    "    def init_finger_table(self):\n",
    "        return None\n",
    "    \n",
    "    def update_finger_table(self):\n",
    "        return None\n",
    "    \n",
    "    def update_others(self):\n",
    "        return None"
   ]
  },
  {
   "cell_type": "code",
   "execution_count": null,
   "metadata": {},
   "outputs": [],
   "source": []
  }
 ],
 "metadata": {
  "kernelspec": {
   "display_name": "Python 3",
   "language": "python",
   "name": "python3"
  },
  "language_info": {
   "codemirror_mode": {
    "name": "ipython",
    "version": 3
   },
   "file_extension": ".py",
   "mimetype": "text/x-python",
   "name": "python",
   "nbconvert_exporter": "python",
   "pygments_lexer": "ipython3",
   "version": "3.7.0"
  }
 },
 "nbformat": 4,
 "nbformat_minor": 2
}
